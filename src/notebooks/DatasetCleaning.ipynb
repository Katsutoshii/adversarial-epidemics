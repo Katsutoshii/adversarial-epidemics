{
 "cells": [
  {
   "cell_type": "markdown",
   "metadata": {},
   "source": [
    "# Read the input files"
   ]
  },
  {
   "cell_type": "code",
   "execution_count": 1,
   "metadata": {},
   "outputs": [],
   "source": [
    "import pandas as pd"
   ]
  },
  {
   "cell_type": "code",
   "execution_count": 2,
   "metadata": {},
   "outputs": [],
   "source": [
    "import glob\n",
    "file_paths= glob.glob(\"../../../Datasets/*.csv\")"
   ]
  },
  {
   "cell_type": "markdown",
   "metadata": {},
   "source": [
    "### Code to just read a file quickly to check it"
   ]
  },
  {
   "cell_type": "code",
   "execution_count": 60,
   "metadata": {},
   "outputs": [
    {
     "name": "stdout",
     "output_type": "stream",
     "text": [
      "../../../Datasets\\2003_04_26.csv\n"
     ]
    }
   ],
   "source": [
    "index=35\n",
    "print(file_paths[index])\n",
    "current= pd.read_csv(file_paths[index], encoding = \"utf-8\")"
   ]
  },
  {
   "cell_type": "markdown",
   "metadata": {},
   "source": [
    "# All data cleaning"
   ]
  },
  {
   "cell_type": "code",
   "execution_count": 118,
   "metadata": {},
   "outputs": [],
   "source": [
    "modified_current= {'Cumulative number of case(s) ': [int(value) for value in current['Cumulative number of case(s) ']],\n",
    "                  'Number of deaths': [int(value) for value in current['Number of deaths']]}"
   ]
  },
  {
   "cell_type": "code",
   "execution_count": null,
   "metadata": {},
   "outputs": [],
   "source": [
    "current.update(modified_current)\n",
    "current"
   ]
  },
  {
   "cell_type": "code",
   "execution_count": 120,
   "metadata": {},
   "outputs": [],
   "source": [
    "current.to_csv(file_paths[index], index= False)"
   ]
  },
  {
   "cell_type": "code",
   "execution_count": null,
   "metadata": {},
   "outputs": [],
   "source": [
    "check= pd.read_csv(file_paths[index])\n",
    "check"
   ]
  },
  {
   "cell_type": "markdown",
   "metadata": {},
   "source": [
    "# Creating the JSON files\n"
   ]
  },
  {
   "cell_type": "code",
   "execution_count": 4,
   "metadata": {},
   "outputs": [],
   "source": [
    "import json\n",
    "import copy"
   ]
  },
  {
   "cell_type": "code",
   "execution_count": 5,
   "metadata": {},
   "outputs": [],
   "source": [
    "relative_path= \"../../\""
   ]
  },
  {
   "cell_type": "code",
   "execution_count": null,
   "metadata": {},
   "outputs": [],
   "source": [
    "previous_json = {}\n",
    "ignore= set([\"../../../Datasets\\\\2003_07_31.csv\"])\n",
    "\n",
    "for index, file_path in enumerate(file_paths):\n",
    "    print(file_path)\n",
    "\n",
    "    if file_path in ignore:\n",
    "        print(\"here\")\n",
    "        continue\n",
    "    \n",
    "    current= pd.read_csv(file_path, encoding = \"utf-8\")\n",
    "           \n",
    "    columns_list= list(current.columns)\n",
    "    columns_dict= {}\n",
    "  \n",
    "    for index in range(len(columns_list)):\n",
    "        temp= []\n",
    "        for character in columns_list[index]:\n",
    "            if character == \" \" or character.isalpha():\n",
    "                temp.append(character)        \n",
    "        columns_list[index]= \"\".join(temp)    \n",
    "        columns_list[index]= columns_list[index].strip()\n",
    "        columns_dict[columns_list[index]]= index\n",
    "    \n",
    "    current_json= {}    \n",
    "    for row in current.iterrows():\n",
    "        current_cases= int(row[1][columns_dict['Cumulative number of cases']])\n",
    "        current_deaths= int(row[1][columns_dict['Number of deaths']])\n",
    "        try:\n",
    "            current_recovery= row[1][columns_dict['Number recovered']]\n",
    "            try:\n",
    "                current_recovery= int(current_recovery)\n",
    "            except:\n",
    "                current_recovery= 0\n",
    "            \n",
    "        except:\n",
    "            current_recovery= 0\n",
    "           \n",
    "        current_country= {'cases': current_cases, 'deaths': current_deaths, 'recoveries': current_recovery}   \n",
    "        \n",
    "        # Clean country names\n",
    "        country_name= row[1][0]\n",
    "        temp= []\n",
    "        for character in country_name:\n",
    "            if character == \" \" or character.isalpha():\n",
    "                temp.append(character)        \n",
    "        country_name= \"\".join(temp)    \n",
    "        country_name= country_name.strip()\n",
    "        if \"Hong Kong\" in country_name:\n",
    "            country_name= \"Hong Kong\"\n",
    "        elif \"Taiwan\" in country_name:\n",
    "            country_name= \"Taiwan\"\n",
    "        elif \"Macao\" in country_name:\n",
    "            country_name= \"Macao\"\n",
    "        \n",
    "        current_json[country_name]= current_country\n",
    "    \n",
    "    file_name_json= relative_path + \"data/in/\" + file_path[-14:-4] + \".json\"  \n",
    "    with open(file_name_json, 'w') as outfile:\n",
    "        json.dump(current_json, outfile)    "
   ]
  }
 ],
 "metadata": {
  "kernelspec": {
   "display_name": "Python 3",
   "language": "python",
   "name": "python3"
  },
  "language_info": {
   "codemirror_mode": {
    "name": "ipython",
    "version": 3
   },
   "file_extension": ".py",
   "mimetype": "text/x-python",
   "name": "python",
   "nbconvert_exporter": "python",
   "pygments_lexer": "ipython3",
   "version": "3.7.6"
  }
 },
 "nbformat": 4,
 "nbformat_minor": 4
}

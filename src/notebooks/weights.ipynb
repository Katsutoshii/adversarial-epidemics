{
 "nbformat": 4,
 "nbformat_minor": 2,
 "metadata": {
  "language_info": {
   "name": "python",
   "codemirror_mode": {
    "name": "ipython",
    "version": 3
   },
   "version": "3.7.6-final"
  },
  "orig_nbformat": 2,
  "file_extension": ".py",
  "mimetype": "text/x-python",
  "name": "python",
  "npconvert_exporter": "python",
  "pygments_lexer": "ipython3",
  "version": 3,
  "kernelspec": {
   "name": "python37664bitce04151a4cac4edbafe602c10cbd8074",
   "display_name": "Python 3.7.6 64-bit"
  }
 },
 "cells": [
  {
   "cell_type": "code",
   "execution_count": 1,
   "metadata": {},
   "outputs": [],
   "source": [
    "import random\n",
    "import networkx as nx"
   ]
  },
  {
   "cell_type": "code",
   "execution_count": null,
   "metadata": {},
   "outputs": [],
   "source": [
    "n: int = 10\n",
    "k: int = 3\n",
    "\n",
    "G: nx.Graph = nx.fast_gnp_random_graph(n=n, p=k/n)\n",
    "\n",
    "for u, v, eprops in G.edges(data=True):\n",
    "    eprops['weight'] = random.random()"
   ]
  },
  {
   "cell_type": "code",
   "execution_count": null,
   "metadata": {},
   "outputs": [],
   "source": [
    "from simulator import EpidemicGraph, Epidemic\n",
    "ep: Epidemic = Epidemic(\n",
    "    incubation_period=1,\n",
    "    spread_fraction=1/9,\n",
    "    recovery_period=2)\n",
    "EG: EpidemicGraph = EpidemicGraph(\n",
    "    G=G,\n",
    "    ep=ep,\n",
    "    infected={i: 0 for i in range(3)},\n",
    "    immune=set([1, 2, 3]))"
   ]
  },
  {
   "cell_type": "code",
   "execution_count": null,
   "metadata": {},
   "outputs": [],
   "source": [
    "while True:\n",
    "    EG.show()\n",
    "    if not EG.step(): break"
   ]
  }
 ]
}
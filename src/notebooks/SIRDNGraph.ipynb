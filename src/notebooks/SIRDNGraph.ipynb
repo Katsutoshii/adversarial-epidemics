{
 "cells": [
  {
   "cell_type": "code",
   "execution_count": 27,
   "metadata": {},
   "outputs": [],
   "source": [
    "import sys\n",
    "sys.path.append(\"/Users/sucharitajayanti/Documents/W'20/CS 189 - Network Science and Complex Systems/finalProject/adversarial-epidemics/src\")"
   ]
  },
  {
   "cell_type": "code",
   "execution_count": 28,
   "metadata": {},
   "outputs": [],
   "source": [
    "import numpy as np\n",
    "import pandas as pd\n",
    "import networkx as nx\n",
    "import itertools\n",
    "import datapackage\n",
    "\n",
    "import matplotlib.pyplot as plt\n",
    "import matplotlib.image as mpimg\n",
    "\n",
    "from simulator import SIRD, SIRDGraph\n",
    "from tools import generate_country_graph"
   ]
  },
  {
   "cell_type": "code",
   "execution_count": 29,
   "metadata": {},
   "outputs": [],
   "source": [
    "def clean_up_data(G, D, string, default_val):\n",
    "    missed = np.setdiff1d(list(G.nodes()), list(D.keys()))\n",
    "    if(len(missed)):\n",
    "        print(\"missing \" + string + \" for the following locations:\")\n",
    "        print(missed)\n",
    "        for i in missed:\n",
    "            D[i] = default_val\n",
    "    return D"
   ]
  },
  {
   "cell_type": "code",
   "execution_count": 30,
   "metadata": {},
   "outputs": [],
   "source": [
    "# Calculates what the weight should be on edge (n1,n2) n1!=n2\n",
    "# Will get more complicated eventually\n",
    "\n",
    "def get_edge_weight(base_weight, w_n1, w_n2):\n",
    "    return base_weight"
   ]
  },
  {
   "cell_type": "code",
   "execution_count": 31,
   "metadata": {},
   "outputs": [],
   "source": [
    "def get_graph_with_labels(G, pop_dict, node_wreg, spread_rate, mortality_rate, recovery, infected, pos, max_weight):\n",
    "    \n",
    "    pop_dict = clean_up_data(G, pop_dict, \"populations\", 0)\n",
    "    node_wreg = clean_up_data(G, node_wreg, \"weight regulations\", 1)\n",
    "    spread_rate = clean_up_data(G, spread_rate, \"b (spread rate)\", 0)\n",
    "    mortality_rate = clean_up_data(G, mortality_rate, \"w (mortality rate)\", 0)\n",
    "    recovery = clean_up_data(G, recovery, \"k (recovery)\", 0.5)\n",
    "    infected = clean_up_data(G, infected, \"i (% initially infected)\", 0)\n",
    "    pos = clean_up_data(G, pos, \"positions\", (0,0))\n",
    "    \n",
    "    max_weight = max_weight + 0.0000000001\n",
    "\n",
    "    nodes = [(n, SIRD(b=spread_rate[n], k=recovery[n], w=mortality_rate[n], N=pop_dict[n], i=infected[n]), pos[n]) for n in list(G.nodes())] \n",
    "    edges = [(u,v,get_edge_weight(d['weight'], node_wreg[u], node_wreg[v])/max_weight) for (u,v,d) in G.edges(data=True)]\n",
    "    \n",
    "    return nodes, edges\n",
    "       "
   ]
  },
  {
   "cell_type": "code",
   "execution_count": 32,
   "metadata": {},
   "outputs": [],
   "source": [
    "def get_name_alpha3_conv():\n",
    "    l_data = pd.read_csv('../data/SIRDNMetrics/Abrevs.csv')\n",
    "    code_dict = {l_data['Country'][i]: l_data['Alpha3Code'][i] for i in range(l_data.shape[0])}  \n",
    "    return code_dict"
   ]
  },
  {
   "cell_type": "code",
   "execution_count": 33,
   "metadata": {},
   "outputs": [],
   "source": [
    "# POPULATION DATA RETRIEVAL\n",
    "\n",
    "def get_pop_data(year):\n",
    "    p_data = pd.read_csv('../data/SIRDNMetrics/Population.csv')\n",
    "    \n",
    "    code_dict = get_name_alpha3_conv()\n",
    "    \n",
    "    label = 'Year_' + str(year)\n",
    "    df = p_data[['Country_Code',label]]\n",
    "    pop_code_dict = {}\n",
    "    for i in range(df.shape[0]):\n",
    "        pop_code_dict[df.iloc[i][0]] = df.iloc[i][1]\n",
    "    \n",
    "    pop_dict = {}\n",
    "    for loc in code_dict:\n",
    "        if code_dict[loc] in pop_code_dict:\n",
    "            pop_dict[loc] = pop_code_dict[code_dict[loc]]\n",
    "            \n",
    "    return pop_dict\n"
   ]
  },
  {
   "cell_type": "code",
   "execution_count": 34,
   "metadata": {},
   "outputs": [],
   "source": [
    "# NODE POSITION DATA RETRIEVAL\n",
    "\n",
    "# HELPER FUNCTION\n",
    "# Gets country coordinates (latitude, longitude)\n",
    "# Uses coords, hScale, vScale, hShift and vShift to find positions for the nodes\n",
    "def get_pos_dict(hScale, vScale, hShift, vShift):\n",
    "    pos_data = pd.read_csv('../data/SIRDNMetrics/Location.csv')\n",
    "    pos = {pos_data['Country'][i]:(pos_data['Longitude'][i] * hScale + hShift, pos_data['Latitude'][i] * vScale + vShift) for i in range(pos_data.shape[0])}\n",
    "    return pos\n",
    "\n",
    "# Calculates country positions from scratch\n",
    "# (0,0) at the top left corner\n",
    "def get_pos_data():\n",
    "    world_map=mpimg.imread('../data/SIRDNMetrics/worldMap.png')\n",
    "    map_dim = world_map.shape\n",
    "    \n",
    "    pos_dict = get_pos_dict(map_dim[1]/360, -1*map_dim[0]/240, map_dim[1]/2, map_dim[0]/2 + 300)\n",
    "    \n",
    "    return pos_dict\n"
   ]
  },
  {
   "cell_type": "code",
   "execution_count": 35,
   "metadata": {},
   "outputs": [],
   "source": [
    "# TEMP HACK FUNCTION FOR OTHER DATA RETRIEVAL\n",
    "\n",
    "def temp_create_data(G, pop_dict, max_weight):\n",
    "    node_wreg = {k:1 for k in pop_dict}\n",
    "    spread_rate = {k:0.5 for k in pop_dict}\n",
    "    mortality_rate = {k:0.1 for k in pop_dict}\n",
    "    recovery = {k:0.8 for k in pop_dict}\n",
    "    infected = {k:0 for k in pop_dict}\n",
    "    infected[\"Germany\"] = 1\n",
    "    infected[\"Canada\"] = 8\n",
    "    infected[\"Singapore\"] = 20 \n",
    "    infected[\"Hong Kong\"] = 95\n",
    "    infected[\"Switzerland\"] = 2\n",
    "    infected[\"Thailand\"] = 1\n",
    "    infected[\"Vietnam\"] =  40\n",
    "    infected[\"China\"] = 100\n",
    "\n",
    "    percent_infected = {n:infected[n]/pop_dict[n] for n in infected}    \n",
    "    return pop_dict, node_wreg, spread_rate, mortality_rate, recovery, infected, percent_infected\n"
   ]
  },
  {
   "cell_type": "markdown",
   "metadata": {},
   "source": [
    "## Graph Generation Code ##"
   ]
  },
  {
   "cell_type": "code",
   "execution_count": 36,
   "metadata": {},
   "outputs": [],
   "source": [
    "def get_SIRDN_graph():\n",
    "    G, max_weight = generate_country_graph()\n",
    "    pop_dict = get_pop_data(2003)#pop_dict_year(get_pop_data(), 2003)\n",
    "    pos = get_pos_data()\n",
    "    #TEMP HACK\n",
    "    pop_dict, node_wreg, spread_rate, mortality_rate, recovery, infected, percent_infected =  temp_create_data(G, pop_dict, max_weight)\n",
    "    \n",
    "    # Generate SIRDN graph\n",
    "    n, e = get_graph_with_labels(G, pop_dict, node_wreg, spread_rate, mortality_rate, recovery, percent_infected, pos, max_weight)\n",
    "    return n, e, G, pos\n"
   ]
  },
  {
   "cell_type": "markdown",
   "metadata": {},
   "source": [
    "## Visualization Code ##"
   ]
  },
  {
   "cell_type": "code",
   "execution_count": 37,
   "metadata": {},
   "outputs": [],
   "source": [
    "# Visualization Helper\n",
    "def plot_world_map(w=180, h=160):\n",
    "    fig=plt.figure(figsize=(w, h))\n",
    "    world_map=mpimg.imread('../data/SIRDNMetrics/worldMap.png')\n",
    "    plt.imshow(world_map)\n",
    "    \n",
    "# takes nodes, returns nodes->labels dict\n",
    "# sanatizes label list in between if necessary\n",
    "def get_labels(nodes):\n",
    "    code_dict = get_name_alpha3_conv()\n",
    "    \n",
    "    labels = {}\n",
    "    for n in nodes:\n",
    "        if n in code_dict:\n",
    "            labels[n] = code_dict[n]\n",
    "        else:\n",
    "            labels[n] = 'N/A'\n",
    "\n",
    "    return labels\n"
   ]
  },
  {
   "cell_type": "markdown",
   "metadata": {},
   "source": [
    "## Testing Code ##"
   ]
  },
  {
   "cell_type": "code",
   "execution_count": 38,
   "metadata": {},
   "outputs": [
    {
     "name": "stdout",
     "output_type": "stream",
     "text": "missing populations for the following locations:\n['British United States' 'Cook Islands' 'New Caledonia' 'Niue' 'Taiwan'\n 'Western Sahara']\nmissing weight regulations for the following locations:\n['British United States' 'Cook Islands' 'New Caledonia' 'Niue' 'Taiwan'\n 'Western Sahara']\nmissing b (spread rate) for the following locations:\n['British United States' 'Cook Islands' 'New Caledonia' 'Niue' 'Taiwan'\n 'Western Sahara']\nmissing w (mortality rate) for the following locations:\n['British United States' 'Cook Islands' 'New Caledonia' 'Niue' 'Taiwan'\n 'Western Sahara']\nmissing k (recovery) for the following locations:\n['British United States' 'Cook Islands' 'New Caledonia' 'Niue' 'Taiwan'\n 'Western Sahara']\nmissing i (% initially infected) for the following locations:\n['British United States' 'Cook Islands' 'New Caledonia' 'Niue' 'Taiwan'\n 'Western Sahara']\nmissing positions for the following locations:\n['British United States' 'New Caledonia']\n"
    }
   ],
   "source": [
    "n, e, G, pos = get_SIRDN_graph()"
   ]
  },
  {
   "cell_type": "code",
   "execution_count": 39,
   "metadata": {},
   "outputs": [],
   "source": [
    "plot_world_map(36, 32)\n",
    "nx.draw(G, with_labels=True, labels = get_labels(list(G.nodes())), pos=pos)\n",
    "plt.savefig('./test.png')"
   ]
  },
  {
   "cell_type": "code",
   "execution_count": null,
   "metadata": {},
   "outputs": [],
   "source": []
  }
 ],
 "metadata": {
  "kernelspec": {
   "display_name": "Python 3",
   "language": "python",
   "name": "python3"
  },
  "language_info": {
   "codemirror_mode": {
    "name": "ipython",
    "version": 3
   },
   "file_extension": ".py",
   "mimetype": "text/x-python",
   "name": "python",
   "nbconvert_exporter": "python",
   "pygments_lexer": "ipython3",
   "version": "3.7.6-final"
  }
 },
 "nbformat": 4,
 "nbformat_minor": 2
}
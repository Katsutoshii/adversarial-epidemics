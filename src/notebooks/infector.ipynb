{
 "nbformat": 4,
 "nbformat_minor": 2,
 "metadata": {
  "language_info": {
   "name": "python",
   "codemirror_mode": {
    "name": "ipython",
    "version": 3
   },
   "version": "3.7.6-final"
  },
  "orig_nbformat": 2,
  "file_extension": ".py",
  "mimetype": "text/x-python",
  "name": "python",
  "npconvert_exporter": "python",
  "pygments_lexer": "ipython3",
  "version": 3,
  "kernelspec": {
   "name": "python37664bitce04151a4cac4edbafe602c10cbd8074",
   "display_name": "Python 3.7.6 64-bit"
  }
 },
 "cells": [
  {
   "cell_type": "code",
   "execution_count": 5,
   "metadata": {},
   "outputs": [],
   "source": [
    "from simulator import Infector, EpidemicGraph\n",
    "from tools import random_weighted_graph, gaussian_choice\n",
    "from random import gauss\n",
    "import matplotlib.pyplot as plt\n",
    "import networkx as nx"
   ]
  },
  {
   "cell_type": "code",
   "execution_count": 6,
   "metadata": {},
   "outputs": [],
   "source": [
    "G: nx.Graph = random_weighted_graph()"
   ]
  },
  {
   "cell_type": "code",
   "execution_count": 7,
   "metadata": {},
   "outputs": [
    {
     "data": {
      "text/plain": "Infector(EG=EpidemicGraph(G=<networkx.classes.graph.Graph object at 0x000001EF91D69888>, ep=Epidemic(spread_fraction=0.01, incubation_period=0, recovery_period=0, recovery_rate=0.5), pos={0: array([-0.32416537, -0.46688029]), 1: array([ 0.62646672, -0.20836736]), 2: array([ 0.07037233, -0.47763716]), 3: array([ 0.03751023, -0.21483285]), 4: array([-0.67031356, -0.32399725]), 5: array([0.25085836, 0.10637839]), 6: array([ 0.23407924, -0.37219539]), 7: array([-0.34783876, -0.08885263]), 8: array([-0.00736675,  0.04425183]), 9: array([-0.42874042,  0.67371864]), 10: array([ 0.17549592, -0.11636364]), 11: array([-0.18431409,  0.08092976]), 12: array([ 0.44181354, -0.38237655]), 13: array([-0.24862768,  0.255948  ]), 14: array([0.49522407, 0.16385676]), 15: array([-0.59897118,  1.        ]), 16: array([ 0.38486107, -0.16367711]), 17: array([0.27260341, 0.38036003]), 18: array([-0.14492593, -0.22604451]), 19: array([-0.03402112,  0.33578133])}, susceptible={0, 1, 2, 3, 4, 5, 6, 7, 8, 9, 10, 11, 12, 13, 14, 15, 16, 17, 18, 19}, infected={}, symptomatic=set(), immune=set(), recovered=set(), susceptible_data=[20], infected_data=[0], symptomatic_data=[0], immune_data=[0], recovered_data=[0], to_infect=[], to_symptomize=[], to_recover=[], degrees=[(4, 1), (15, 1), (0, 2), (11, 2), (1, 3), (6, 3), (9, 3), (17, 3), (18, 3), (19, 3), (2, 4), (5, 4), (10, 4), (12, 4), (13, 4), (14, 4), (3, 5), (7, 6), (16, 6), (8, 7)], verbose=False), mu=0.5, sigma=0.1)"
     },
     "execution_count": 7,
     "metadata": {},
     "output_type": "execute_result"
    }
   ],
   "source": [
    "EG: EpidemicGraph = EpidemicGraph(G)\n",
    "infector: Infector = Infector(EG)\n",
    "infector"
   ]
  },
  {
   "cell_type": "code",
   "execution_count": 8,
   "metadata": {},
   "outputs": [
    {
     "name": "stdout",
     "output_type": "stream",
     "text": "Infecting 17 with degree 3\n"
    }
   ],
   "source": [
    "infector.step()"
   ]
  }
 ]
}
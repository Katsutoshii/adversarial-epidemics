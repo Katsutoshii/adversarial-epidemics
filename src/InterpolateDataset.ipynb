{
 "cells": [
  {
   "cell_type": "code",
   "execution_count": 1,
   "metadata": {},
   "outputs": [],
   "source": [
    "import json"
   ]
  },
  {
   "cell_type": "code",
   "execution_count": 39,
   "metadata": {},
   "outputs": [],
   "source": [
    "missing_days= set(['2003_03_30', '2003_03_30', '2003_04_06', '2003_04_13', '2003_04_20', '2003_04_27', \n",
    "                   '2003_05_04', '2003_05_11', '2003_05_18', '2003_05_25', '2003_06_01', '2003_06_07', \n",
    "                   '2003_06_08', '2003_06_14', '2003_06_15', '2003_06_21', '2003_06_22', '2003_06_28', \n",
    "                   '2003_06_29', '2003_07_05', '2003_07_06'])"
   ]
  },
  {
   "cell_type": "code",
   "execution_count": 3,
   "metadata": {},
   "outputs": [],
   "source": [
    "relative_path= \"../../data/in/\""
   ]
  },
  {
   "cell_type": "markdown",
   "metadata": {},
   "source": [
    "## One day missing between two dates"
   ]
  },
  {
   "cell_type": "code",
   "execution_count": 14,
   "metadata": {},
   "outputs": [],
   "source": [
    "def single_missing(file_before, output_file, file_after):\n",
    "    with open(relative_path + file_before + \".json\", 'r') as file:\n",
    "        file1= json.load(file)  \n",
    "    \n",
    "    with open(relative_path + file_after + \".json\", 'r') as file:\n",
    "        file2= json.load(file)\n",
    "    \n",
    "    output_dict= {}\n",
    "    \n",
    "    for country in file1:\n",
    "        if country not in file2:\n",
    "            continue\n",
    "        output_dict[country]= {}\n",
    "        for key in file1[country]:\n",
    "            output_dict[country][key]= (file1[country][key] + file2[country][key])//2\n",
    "\n",
    "            \n",
    "#     for country in file1:\n",
    "#         if country not in file2:\n",
    "#             continue\n",
    "#         for key in file1[country]: \n",
    "#             print(country, key, file1[country][key], output_dict[country][key], file2[country][key])\n",
    "            \n",
    "    with open(relative_path + output_file + \".json\", 'w') as outfile:\n",
    "        json.dump(output_dict, outfile)"
   ]
  },
  {
   "cell_type": "code",
   "execution_count": 40,
   "metadata": {},
   "outputs": [],
   "source": [
    "single_missing('2003_03_22', '2003_03_23', '2003_03_24')"
   ]
  },
  {
   "cell_type": "code",
   "execution_count": 7,
   "metadata": {},
   "outputs": [],
   "source": [
    "single_missing('2003_03_29', '2003_03_30', '2003_03_31')"
   ]
  },
  {
   "cell_type": "code",
   "execution_count": null,
   "metadata": {},
   "outputs": [],
   "source": [
    "single_missing('2003_04_05', '2003_04_06', '2003_04_07')"
   ]
  },
  {
   "cell_type": "code",
   "execution_count": 15,
   "metadata": {},
   "outputs": [],
   "source": [
    "single_missing('2003_04_12', '2003_04_13', '2003_04_14')"
   ]
  },
  {
   "cell_type": "code",
   "execution_count": 16,
   "metadata": {},
   "outputs": [],
   "source": [
    "single_missing('2003_04_19', '2003_04_20', '2003_04_21')"
   ]
  },
  {
   "cell_type": "code",
   "execution_count": 17,
   "metadata": {},
   "outputs": [],
   "source": [
    "single_missing('2003_04_26', '2003_04_27', '2003_04_28')"
   ]
  },
  {
   "cell_type": "code",
   "execution_count": 18,
   "metadata": {},
   "outputs": [],
   "source": [
    "single_missing('2003_05_03', '2003_05_04', '2003_05_05')"
   ]
  },
  {
   "cell_type": "code",
   "execution_count": 19,
   "metadata": {},
   "outputs": [],
   "source": [
    "single_missing('2003_05_10', '2003_05_11', '2003_05_12')"
   ]
  },
  {
   "cell_type": "code",
   "execution_count": 20,
   "metadata": {},
   "outputs": [],
   "source": [
    "single_missing('2003_05_17', '2003_05_18', '2003_05_19')"
   ]
  },
  {
   "cell_type": "code",
   "execution_count": 21,
   "metadata": {},
   "outputs": [],
   "source": [
    "single_missing('2003_05_24', '2003_05_25', '2003_05_26')"
   ]
  },
  {
   "cell_type": "code",
   "execution_count": 22,
   "metadata": {},
   "outputs": [],
   "source": [
    "single_missing('2003_05_31', '2003_06_01', '2003_06_02')"
   ]
  },
  {
   "cell_type": "markdown",
   "metadata": {},
   "source": [
    "## Two days missing beween two dates"
   ]
  },
  {
   "cell_type": "code",
   "execution_count": 33,
   "metadata": {},
   "outputs": [],
   "source": [
    "def double_missing(file_before, output_file1, output_file2, file_after):\n",
    "    with open(relative_path + file_before + \".json\", 'r') as file:\n",
    "        file1= json.load(file)  \n",
    "    \n",
    "    with open(relative_path + file_after + \".json\", 'r') as file:\n",
    "        file2= json.load(file)\n",
    "    \n",
    "    output_dict1= {}\n",
    "    output_dict2= {}\n",
    "    \n",
    "    for country in file1:\n",
    "        if country not in file2:\n",
    "            continue\n",
    "            \n",
    "        output_dict1[country]= {}\n",
    "        output_dict2[country]= {}\n",
    "        \n",
    "        for key in file1[country]:\n",
    "            # Arithmetic series: a, a+d, a+2d, a+3d, ...\n",
    "            d= (file2[country][key] - file1[country][key])/3\n",
    "            output_dict1[country][key]= int(file1[country][key] + d)\n",
    "            output_dict2[country][key]= int(file1[country][key] + 2*d)\n",
    "\n",
    "            \n",
    "#     for country in file1:\n",
    "#         if country not in file2:\n",
    "#             continue\n",
    "#         for key in file1[country]: \n",
    "#             print(country, key, file1[country][key], output_dict1[country][key], output_dict2[country][key], file2[country][key])\n",
    "            \n",
    "    with open(relative_path + output_file1 + \".json\", 'w') as outfile:\n",
    "        json.dump(output_dict1, outfile)\n",
    "    \n",
    "    with open(relative_path + output_file2 + \".json\", 'w') as outfile:\n",
    "        json.dump(output_dict2, outfile)"
   ]
  },
  {
   "cell_type": "code",
   "execution_count": 34,
   "metadata": {},
   "outputs": [],
   "source": [
    "double_missing('2003_06_06', '2003_06_07', '2003_06_08', '2003_06_09')"
   ]
  },
  {
   "cell_type": "code",
   "execution_count": 35,
   "metadata": {},
   "outputs": [],
   "source": [
    "double_missing('2003_06_13', '2003_06_14', '2003_06_15', '2003_06_16')"
   ]
  },
  {
   "cell_type": "code",
   "execution_count": 36,
   "metadata": {},
   "outputs": [],
   "source": [
    "double_missing('2003_06_20', '2003_06_21', '2003_06_22', '2003_06_23')"
   ]
  },
  {
   "cell_type": "code",
   "execution_count": 37,
   "metadata": {},
   "outputs": [],
   "source": [
    "double_missing('2003_06_27', '2003_06_28', '2003_06_29', '2003_06_30')"
   ]
  },
  {
   "cell_type": "code",
   "execution_count": 38,
   "metadata": {},
   "outputs": [],
   "source": [
    "double_missing('2003_07_04', '2003_07_05', '2003_07_06', '2003_07_07')"
   ]
  },
  {
   "cell_type": "code",
   "execution_count": 44,
   "metadata": {},
   "outputs": [],
   "source": [
    "import glob\n",
    "file_paths= glob.glob(\"../../data/in/*.json\")"
   ]
  },
  {
   "cell_type": "code",
   "execution_count": 45,
   "metadata": {},
   "outputs": [
    {
     "data": {
      "text/plain": [
       "117"
      ]
     },
     "execution_count": 45,
     "metadata": {},
     "output_type": "execute_result"
    }
   ],
   "source": [
    "len(file_paths)"
   ]
  },
  {
   "cell_type": "code",
   "execution_count": null,
   "metadata": {},
   "outputs": [],
   "source": []
  }
 ],
 "metadata": {
  "kernelspec": {
   "display_name": "Python 3",
   "language": "python",
   "name": "python3"
  },
  "language_info": {
   "codemirror_mode": {
    "name": "ipython",
    "version": 3
   },
   "file_extension": ".py",
   "mimetype": "text/x-python",
   "name": "python",
   "nbconvert_exporter": "python",
   "pygments_lexer": "ipython3",
   "version": "3.7.6"
  }
 },
 "nbformat": 4,
 "nbformat_minor": 4
}

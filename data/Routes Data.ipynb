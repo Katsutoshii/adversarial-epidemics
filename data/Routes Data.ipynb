{
 "cells": [
  {
   "cell_type": "markdown",
   "metadata": {},
   "source": [
    "# Import Data"
   ]
  },
  {
   "cell_type": "code",
   "execution_count": 100,
   "metadata": {},
   "outputs": [],
   "source": [
    "import pandas as pd \n",
    "import networkx as nx\n",
    "import matplotlib.pyplot as plt"
   ]
  },
  {
   "cell_type": "markdown",
   "metadata": {},
   "source": [
    "# Country Flight Network "
   ]
  },
  {
   "cell_type": "code",
   "execution_count": 103,
   "metadata": {},
   "outputs": [],
   "source": [
    "''' Python Helper functions '''\n",
    "\n",
    "def load_data(filepath):\n",
    "    # load data into pandas dataframe\n",
    "    return pd.read_csv(filepath)\n",
    "\n",
    "# creates the global airport network (domestic and international)\n",
    "def flight_graph(df):\n",
    "    # Create directed graph from routes data\n",
    "    G = nx.DiGraph()\n",
    "    for index, row in df.iterrows(): \n",
    "        G.add_edge(row['Source ID'], row['Destination ID']) \n",
    "        \n",
    "    return G\n",
    "\n",
    "\n",
    "def summarize_graph(G):\n",
    "    # Summary statistics about the network\n",
    "    return nx.info(G)\n",
    "\n",
    "\n",
    "def plot_degree_distribution(G):\n",
    "    # extract degree of each airport sorted in decreasing order\n",
    "    degrees = [airport[1] for airport in sorted(nx.degree(G), key=lambda x: x[1], reverse=True)]\n",
    "\n",
    "    plt.plot(degrees)\n",
    "\n",
    "\n",
    "# retrieves the country name given an ID\n",
    "def country_dict(df2):\n",
    "    # Get the country name from ID number\n",
    "    country = dict()\n",
    "\n",
    "    for index, row in df2.iterrows(): \n",
    "        country[row['Airport ID']] = row['Country']\n",
    "\n",
    "    return country\n",
    "\n",
    "\n",
    "# helper function to retrieve country name given an airport ID\n",
    "def get_country(ID, country):\n",
    "    # @return country_name - str\n",
    "    if ID == \"\\\\N\" or float(ID) not in country:\n",
    "        return 'No ID'\n",
    "\n",
    "    return country[float(ID)]\n",
    "\n",
    "# helper function used to rank countries by number of airports\n",
    "def num_airports(G, country):\n",
    "    num_airports = dict()\n",
    "\n",
    "    for airport in  nx.degree(G):\n",
    "        name = get_country(airport[0], country)\n",
    "        if name != 'No ID':\n",
    "            num_airports[name] = num_airports.get(name, 0) + 1\n",
    "\n",
    "    names, num = [], [] \n",
    "    for name, count in sorted(num_airports.items(), key=lambda item: item[1], reverse=True):\n",
    "        names.append(name)\n",
    "        num.append(count)\n",
    "        \n",
    "#     d = {'Country': names, 'Number of Airports': num}\n",
    "#     country_df = pd.DataFrame(data=d)\n",
    "#     country_df.head(10)\n",
    "    \n",
    "    return names, num\n",
    "\n",
    "# Main function used to generate the country graph\n",
    "def create_country_graph(df, country):\n",
    "    # International graph network, weighted by number of routes between two countries\n",
    "    country_graph = nx.DiGraph()\n",
    "    max_weight = 0\n",
    "    \n",
    "    for index, row in df.iterrows(): \n",
    "        source, destination = get_country(row['Source ID'],country), get_country(row['Destination ID'],country)\n",
    "        if source != 'No ID' and destination != 'No ID':\n",
    "            if country_graph.has_edge(source, destination):\n",
    "                country_graph[source][destination]['weight'] += 1\n",
    "            else:\n",
    "                country_graph.add_edge(source, destination, weight=1) \n",
    "\n",
    "            max_weight = max(max_weight, country_graph[source][destination]['weight'])\n",
    "    \n",
    "    return country_graph, max_weight\n",
    "\n",
    "def load_datasets():\n",
    "    df = load_data('routes.txt')\n",
    "    df = df.drop(['Airline', 'Airline ID', 'Codeshare', 'Stops', 'Equipment'], axis=1)\n",
    "\n",
    "    # Read airport data to map Airport ID -> Country\n",
    "    df2 = load_data('airports.txt')\n",
    "    df2 = df2.drop(['Latitude','Longitude','Altitude','Timezone','DST',\n",
    "                    'database time zone','Type','Source','City','Name'], axis=1) \n",
    "    \n",
    "    return df, df2\n"
   ]
  },
  {
   "cell_type": "code",
   "execution_count": 104,
   "metadata": {},
   "outputs": [],
   "source": [
    "# load the routes and airport csv files into pandas dataframes\n",
    "df, df2 = load_datasets()\n",
    "\n",
    "# create a id to country mapping\n",
    "country = country_dict(df2)\n",
    "\n",
    "# create country graph\n",
    "country_graph, max_weight = create_country_graph(df, country)"
   ]
  },
  {
   "cell_type": "code",
   "execution_count": null,
   "metadata": {},
   "outputs": [],
   "source": []
  },
  {
   "cell_type": "code",
   "execution_count": null,
   "metadata": {},
   "outputs": [],
   "source": []
  }
 ],
 "metadata": {
  "kernelspec": {
   "display_name": "Python 3",
   "language": "python",
   "name": "python3"
  },
  "language_info": {
   "codemirror_mode": {
    "name": "ipython",
    "version": 3
   },
   "file_extension": ".py",
   "mimetype": "text/x-python",
   "name": "python",
   "nbconvert_exporter": "python",
   "pygments_lexer": "ipython3",
   "version": "3.7.3"
  }
 },
 "nbformat": 4,
 "nbformat_minor": 2
}

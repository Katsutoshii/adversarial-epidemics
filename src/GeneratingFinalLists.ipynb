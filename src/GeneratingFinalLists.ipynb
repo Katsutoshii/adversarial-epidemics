{
 "cells": [
  {
   "cell_type": "code",
   "execution_count": 1,
   "metadata": {},
   "outputs": [],
   "source": [
    "import json"
   ]
  },
  {
   "cell_type": "code",
   "execution_count": 2,
   "metadata": {},
   "outputs": [],
   "source": [
    "relative_path= \"../../data/in/\""
   ]
  },
  {
   "cell_type": "code",
   "execution_count": 3,
   "metadata": {},
   "outputs": [],
   "source": [
    "import glob\n",
    "file_paths= glob.glob(\"../../data/in/*.json\")"
   ]
  },
  {
   "cell_type": "code",
   "execution_count": 18,
   "metadata": {},
   "outputs": [],
   "source": [
    "def check_number_of_countries(file_paths):\n",
    "    previous= 0\n",
    "    for index, path in enumerate(file_paths):\n",
    "        \n",
    "        with open(path, 'r') as file:\n",
    "            current= json.load(file)\n",
    "        \n",
    "        print(index, path[-15:-5], len(current), len(current) - previous)\n",
    "        previous= len(current)"
   ]
  },
  {
   "cell_type": "code",
   "execution_count": null,
   "metadata": {},
   "outputs": [],
   "source": [
    "check_number_of_countries(file_paths)"
   ]
  },
  {
   "cell_type": "code",
   "execution_count": 33,
   "metadata": {},
   "outputs": [],
   "source": [
    "def check_which_countries_are_missing(file_paths):\n",
    "    with open(file_paths[-1], 'r') as file:\n",
    "        final_date= json.load(file)\n",
    "    \n",
    "    missing= []\n",
    "    \n",
    "    for index, path in enumerate(file_paths[:-1]):\n",
    "        with open(path, 'r') as file:\n",
    "            current= json.load(file)\n",
    "        \n",
    "        for country in current.keys():\n",
    "            if country not in final_date.keys():\n",
    "                missing.append(country)\n",
    "    \n",
    "    return set(missing)    "
   ]
  },
  {
   "cell_type": "code",
   "execution_count": 34,
   "metadata": {},
   "outputs": [
    {
     "data": {
      "text/plain": [
       "{'Belgium', 'Bulgaria', 'Japan', 'Poland', 'Slovenia'}"
      ]
     },
     "execution_count": 34,
     "metadata": {},
     "output_type": "execute_result"
    }
   ],
   "source": [
    "missing_countries= check_which_countries_are_missing(file_paths)\n",
    "missing_countries"
   ]
  },
  {
   "cell_type": "code",
   "execution_count": 75,
   "metadata": {},
   "outputs": [],
   "source": [
    "def linear_interpolation_for_China(china_dict):\n",
    "    d_cases= 88\n",
    "    d_deaths= 3.5\n",
    "        \n",
    "    for index in range(len(china_dict['cases'][:9])): \n",
    "        china_dict['cases'][index]= int(index*d_cases)\n",
    "    \n",
    "    for index in range(len(china_dict['deaths'][:10])):\n",
    "        china_dict['deaths'][index]= int(index*d_deaths)\n",
    "        \n",
    "    # No need to do interpolation for recoveries since they're all zero "
   ]
  },
  {
   "cell_type": "code",
   "execution_count": 76,
   "metadata": {},
   "outputs": [],
   "source": [
    "def generate_final_country_lists(file_paths, missing):\n",
    "    with open(file_paths[-1], 'r') as file:\n",
    "        final_date= json.load(file)\n",
    "    \n",
    "    final_country_dict= {}\n",
    "        \n",
    "    for country in missing:\n",
    "        final_country_dict[country]= {'cases': [], 'deaths': [], 'recoveries': []}\n",
    "    \n",
    "    for country in final_date.keys():\n",
    "        final_country_dict[country]= {'cases': [], 'deaths': [], 'recoveries': []}    \n",
    "    \n",
    "    for index, path in enumerate(file_paths):\n",
    "        with open(path, 'r') as file:\n",
    "            current= json.load(file)\n",
    "        \n",
    "        for country in final_country_dict:\n",
    "            if country not in current:\n",
    "                try:\n",
    "                    final_country_dict[country]['cases'].append(final_country_dict[country]['cases'][-1])\n",
    "                    final_country_dict[country]['deaths'].append(final_country_dict[country]['deaths'][-1])\n",
    "                    final_country_dict[country]['recoveries'].append(final_country_dict[country]['recoveries'][-1])\n",
    "                except:\n",
    "                    final_country_dict[country]['cases'].append(0)\n",
    "                    final_country_dict[country]['deaths'].append(0)\n",
    "                    final_country_dict[country]['recoveries'].append(0)\n",
    "            else:\n",
    "                final_country_dict[country]['cases'].append(current[country]['cases'])\n",
    "                final_country_dict[country]['deaths'].append(current[country]['deaths'])\n",
    "                final_country_dict[country]['recoveries'].append(current[country]['recoveries'])\n",
    "        \n",
    "    linear_interpolation_for_China(final_country_dict['China'])\n",
    "    \n",
    "    \n",
    "    with open(relative_path + 'all_countries_data.json', 'w') as file:\n",
    "        json.dump(final_country_dict, file)\n",
    "    \n",
    "#     for country in final_country_dict:\n",
    "#         for key in final_country_dict[country]:\n",
    "#             print(country, key, final_country_dict[country][key])\n",
    "#         print()"
   ]
  },
  {
   "cell_type": "code",
   "execution_count": 77,
   "metadata": {},
   "outputs": [],
   "source": [
    "generate_final_country_lists(file_paths, missing_countries)"
   ]
  },
  {
   "cell_type": "code",
   "execution_count": null,
   "metadata": {},
   "outputs": [],
   "source": []
  }
 ],
 "metadata": {
  "kernelspec": {
   "display_name": "Python 3",
   "language": "python",
   "name": "python3"
  },
  "language_info": {
   "codemirror_mode": {
    "name": "ipython",
    "version": 3
   },
   "file_extension": ".py",
   "mimetype": "text/x-python",
   "name": "python",
   "nbconvert_exporter": "python",
   "pygments_lexer": "ipython3",
   "version": "3.7.6"
  }
 },
 "nbformat": 4,
 "nbformat_minor": 4
}
